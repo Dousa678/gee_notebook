{
 "cells": [
  {
   "cell_type": "markdown",
   "metadata": {},
   "source": [
    "# 0917第二天的练习"
   ]
  },
  {
   "cell_type": "code",
   "execution_count": 2,
   "metadata": {},
   "outputs": [],
   "source": [
    "import ee\n",
    "import geemap\n",
    "import os"
   ]
  },
  {
   "cell_type": "code",
   "execution_count": 3,
   "metadata": {
    "scrolled": true
   },
   "outputs": [
    {
     "data": {
      "application/vnd.jupyter.widget-view+json": {
       "model_id": "c320bbc23f2145fcb5618d810202b281",
       "version_major": 2,
       "version_minor": 0
      },
      "text/plain": [
       "Map(center=[40, -100], controls=(WidgetControl(options=['position'], widget=HBox(children=(ToggleButton(value=…"
      ]
     },
     "metadata": {},
     "output_type": "display_data"
    }
   ],
   "source": [
    "Map = geemap.Map()\n",
    "Map"
   ]
  },
  {
   "cell_type": "markdown",
   "metadata": {},
   "source": [
    "# Download an ee.Image"
   ]
  },
  {
   "cell_type": "code",
   "execution_count": 15,
   "metadata": {},
   "outputs": [],
   "source": [
    "image = ee.Image('LANDSAT/LE7_TOA_5YEAR/1999_2003')\n",
    "#image = ee.ImageCollection(\"NASA/MEASURES/GFCC/TC/v3\") \n",
    "landsat_vis = {\n",
    "    'bands': ['B4','B3','B2'],\n",
    "    'gamma':1.4\n",
    "}\n",
    "Map.addLayer(image,landsat_vis,'LE7_TOA_5YEAR/1999_2003',True,1)"
   ]
  },
  {
   "cell_type": "code",
   "execution_count": 16,
   "metadata": {},
   "outputs": [
    {
     "name": "stdout",
     "output_type": "stream",
     "text": [
      "ee.Image({\n",
      "  \"type\": \"Invocation\",\n",
      "  \"arguments\": {\n",
      "    \"id\": \"LANDSAT/LE7_TOA_5YEAR/1999_2003\"\n",
      "  },\n",
      "  \"functionName\": \"Image.load\"\n",
      "})\n"
     ]
    }
   ],
   "source": [
    "print(image)"
   ]
  },
  {
   "cell_type": "markdown",
   "metadata": {},
   "source": [
    "# 得到我的矢量范围"
   ]
  },
  {
   "cell_type": "code",
   "execution_count": 7,
   "metadata": {
    "scrolled": true
   },
   "outputs": [
    {
     "data": {
      "application/vnd.jupyter.widget-view+json": {
       "model_id": "23e6c606d3b542ed957ff40b7efafbd7",
       "version_major": 2,
       "version_minor": 0
      },
      "text/plain": [
       "HBox(children=(VBox(), VBox()))"
      ]
     },
     "metadata": {},
     "output_type": "display_data"
    },
    {
     "data": {
      "application/javascript": [
       "\n",
       "        var code = IPython.notebook.insert_cell_below('code');\n",
       "        code.set_text(atob(\"ZGF0YXNldF9scGMgPSBlZS5GZWF0dXJlQ29sbGVjdGlvbigndXNlcnMvZG91c2E2Nzgvd3lkL3dhbmd5ZWRpYW5fbmV3JykKTWFwLmFkZExheWVyKGRhdGFzZXRfbHBjLCB7fSwgIndhbmd5ZWRpYW5fbmV3Iik=\"));\n",
       "    "
      ],
      "text/plain": [
       "<IPython.core.display.Javascript object>"
      ]
     },
     "metadata": {},
     "output_type": "display_data"
    }
   ],
   "source": [
    "geemap.ee_search()"
   ]
  },
  {
   "cell_type": "code",
   "execution_count": 18,
   "metadata": {},
   "outputs": [],
   "source": [
    "wyd_shp = ee.FeatureCollection('users/dousa678/wyd/wangyedian_new')\n",
    "#Map.addLayer(dataset_lpc, {}, \"wangyedian_new\")\n",
    "roi = wyd_shp.geometry()"
   ]
  },
  {
   "cell_type": "code",
   "execution_count": 23,
   "metadata": {},
   "outputs": [],
   "source": [
    "out_dir = 'D:\\pip_gee\\download'\n",
    "#print(out_dir)\n",
    "filename = os.path.join(out_dir,'landsat_wyd.tif')"
   ]
  },
  {
   "cell_type": "code",
   "execution_count": 8,
   "metadata": {
    "collapsed": true
   },
   "outputs": [
    {
     "ename": "AttributeError",
     "evalue": "'Image' object has no attribute 'filterBounds'",
     "output_type": "error",
     "traceback": [
      "\u001b[1;31m---------------------------------------------------------------------------\u001b[0m",
      "\u001b[1;31mAttributeError\u001b[0m                            Traceback (most recent call last)",
      "\u001b[1;32m<ipython-input-8-1ce8ec9be664>\u001b[0m in \u001b[0;36m<module>\u001b[1;34m\u001b[0m\n\u001b[1;32m----> 1\u001b[1;33m \u001b[0mimage\u001b[0m\u001b[1;33m=\u001b[0m\u001b[0mimage\u001b[0m\u001b[1;33m.\u001b[0m\u001b[0mfilterBounds\u001b[0m\u001b[1;33m(\u001b[0m\u001b[0mwyd_shp\u001b[0m\u001b[1;33m)\u001b[0m\u001b[1;33m\u001b[0m\u001b[1;33m\u001b[0m\u001b[0m\n\u001b[0m",
      "\u001b[1;31mAttributeError\u001b[0m: 'Image' object has no attribute 'filterBounds'"
     ]
    }
   ],
   "source": [
    "#image=image.filterBounds(wyd_shp)"
   ]
  },
  {
   "cell_type": "markdown",
   "metadata": {},
   "source": [
    "这里想通过矢量范围确定一整副影像，但是貌似不太好操作"
   ]
  },
  {
   "cell_type": "code",
   "execution_count": 39,
   "metadata": {
    "scrolled": true
   },
   "outputs": [
    {
     "name": "stdout",
     "output_type": "stream",
     "text": [
      "Generating URL ...\n",
      "Downloading data from https://earthengine.googleapis.com/v1alpha/projects/earthengine-legacy/thumbnails/44c5871c3994a04466c45e68e5a79cfa-7438df15190d6bce88991bb08ded2614:getPixels\n",
      "Please wait ...\n",
      "[WinError 32] 另一个程序正在使用此文件，进程无法访问。: 'D:\\\\pip_gee\\\\download\\\\landsat_wyd.zip'\n"
     ]
    }
   ],
   "source": [
    "image = image.clip(roi).unmask()\n",
    "geemap.ee_export_image(image,filename=filename,scale=30,region=roi,file_per_band = False)"
   ]
  },
  {
   "cell_type": "markdown",
   "metadata": {},
   "source": [
    "# 下载数据集"
   ]
  },
  {
   "cell_type": "code",
   "execution_count": 27,
   "metadata": {},
   "outputs": [],
   "source": [
    "import ee\n",
    "import geemap\n",
    "import os"
   ]
  },
  {
   "cell_type": "code",
   "execution_count": 28,
   "metadata": {},
   "outputs": [],
   "source": [
    "wyd_shp = ee.FeatureCollection('users/dousa678/wyd/wangyedian_new')\n",
    "#Map.addLayer(dataset_lpc, {}, \"wangyedian_new\")\n",
    "roi = wyd_shp.geometry()"
   ]
  },
  {
   "cell_type": "code",
   "execution_count": 32,
   "metadata": {},
   "outputs": [],
   "source": [
    "data_GFCC = ee.ImageCollection(\"NASA/MEASURES/GFCC/TC/v3\")\\\n",
    "    .filterBounds(roi)\\\n",
    "    .filterDate('2015-01-01','2015-12-31')"
   ]
  },
  {
   "cell_type": "code",
   "execution_count": 33,
   "metadata": {},
   "outputs": [],
   "source": [
    "out_dir = 'D:\\pip_gee\\download'"
   ]
  },
  {
   "cell_type": "code",
   "execution_count": 35,
   "metadata": {},
   "outputs": [
    {
     "name": "stdout",
     "output_type": "stream",
     "text": [
      "['p122r031_TC_2015', 'p123r031_TC_2015']\n"
     ]
    }
   ],
   "source": [
    "print(data_GFCC.aggregate_array('system:index').getInfo())"
   ]
  },
  {
   "cell_type": "code",
   "execution_count": 36,
   "metadata": {},
   "outputs": [
    {
     "name": "stdout",
     "output_type": "stream",
     "text": [
      "Total number of images: 2\n",
      "\n",
      "Exporting 1/2: p122r031_TC_2015.tif\n",
      "Generating URL ...\n",
      "Downloading data from https://earthengine.googleapis.com/v1alpha/projects/earthengine-legacy/thumbnails/8459e85c86e14b7722bcc6a9b9bc7c72-f3761ae336bb3426865c18162c8d22f9:getPixels\n",
      "Please wait ...\n",
      "An error occurred while downloading.\n",
      "\n",
      "\n",
      "Exporting 2/2: p123r031_TC_2015.tif\n",
      "Generating URL ...\n",
      "Downloading data from https://earthengine.googleapis.com/v1alpha/projects/earthengine-legacy/thumbnails/ca80afc89108b19617a20aa06697c0b0-74afc6163c3d9b3e65fffcb0602ffcd9:getPixels\n",
      "Please wait ...\n",
      "An error occurred while downloading.\n",
      "\n",
      "\n"
     ]
    }
   ],
   "source": [
    "geemap.ee_export_image_collection(data_GFCC,out_dir = out_dir)"
   ]
  },
  {
   "cell_type": "markdown",
   "metadata": {},
   "source": [
    "# 这里就是导出到Google drive里面"
   ]
  },
  {
   "cell_type": "code",
   "execution_count": 38,
   "metadata": {},
   "outputs": [
    {
     "name": "stdout",
     "output_type": "stream",
     "text": [
      "Total number of images: 2\n",
      "\n",
      "Exporting p122r031_TC_2015 ...\n",
      "Exporting p123r031_TC_2015 ...\n"
     ]
    }
   ],
   "source": [
    "geemap.ee_export_image_collection_to_drive(data_GFCC,folder = 'export',scale=30)"
   ]
  },
  {
   "cell_type": "code",
   "execution_count": null,
   "metadata": {},
   "outputs": [],
   "source": []
  }
 ],
 "metadata": {
  "kernelspec": {
   "display_name": "Python 3",
   "language": "python",
   "name": "python3"
  },
  "language_info": {
   "codemirror_mode": {
    "name": "ipython",
    "version": 3
   },
   "file_extension": ".py",
   "mimetype": "text/x-python",
   "name": "python",
   "nbconvert_exporter": "python",
   "pygments_lexer": "ipython3",
   "version": "3.7.4"
  }
 },
 "nbformat": 4,
 "nbformat_minor": 2
}
